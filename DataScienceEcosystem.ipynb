{
 "cells": [
  {
   "cell_type": "markdown",
   "id": "0fb4c4e0",
   "metadata": {},
   "source": [
    "# Data Science Tools and Ecosystem"
   ]
  },
  {
   "cell_type": "markdown",
   "id": "85c75b17",
   "metadata": {},
   "source": [
    "In this notebook, we explore the various tools and ecosystems that are integral to data science. Data science involves a wide range of processes, including data collection, cleaning, analysis, and visualization. To facilitate these processes, numerous tools and frameworks have been developed. This notebook will summarize some of the key tools used in data science, along with the ecosystems that support them. Whether you are a beginner or an experienced data scientist, understanding these tools is essential for efficient and effective data analysis.\n"
   ]
  },
  {
   "cell_type": "markdown",
   "id": "1c1d74c5",
   "metadata": {},
   "source": [
    "Some of the popular languages that Data Scientists use are:\n",
    "\n",
    "1. Python\n",
    "2. R\n",
    "3. SQL\n",
    "4. Julia\n",
    "5. Java\n",
    "\n"
   ]
  },
  {
   "cell_type": "markdown",
   "id": "28feac8e",
   "metadata": {},
   "source": [
    "Some of the commonly used libraries used by Data Scientists include:\n",
    "\n",
    "1. NumPy\n",
    "2. Pandas\n",
    "3. Matplotlib\n",
    "4. Scikit-learn\n",
    "5. TensorFlow\n"
   ]
  },
  {
   "cell_type": "markdown",
   "id": "b62394e0",
   "metadata": {},
   "source": [
    "| Data Science Tools           |\n",
    "|------------------------------|\n",
    "| Jupyter Notebook             |\n",
    "| RStudio                      |\n",
    "| Apache Zeppelin              |\n"
   ]
  },
  {
   "cell_type": "markdown",
   "id": "9086d7cc",
   "metadata": {},
   "source": [
    "### Examples of Arithmetic Expressions\n",
    "Below are a few examples of evaluating arithmetic expressions in Python:\n",
    "\n",
    "1.addition\n"
   ]
  },
  {
   "cell_type": "code",
   "execution_count": 2,
   "id": "106dd53b",
   "metadata": {},
   "outputs": [
    {
     "data": {
      "text/plain": [
       "17"
      ]
     },
     "execution_count": 2,
     "metadata": {},
     "output_type": "execute_result"
    }
   ],
   "source": [
    "# This is a simple arithmetic expression to multiply then add integers.\n",
    "result = (3 * 4) + 5\n",
    "result\n"
   ]
  },
  {
   "cell_type": "code",
   "execution_count": 3,
   "id": "81917c1a",
   "metadata": {},
   "outputs": [
    {
     "data": {
      "text/plain": [
       "3.3333333333333335"
      ]
     },
     "execution_count": 3,
     "metadata": {},
     "output_type": "execute_result"
    }
   ],
   "source": [
    "# This will convert 200 minutes to hours by dividing by 60.\n",
    "hours = 200 / 60\n",
    "hours\n"
   ]
  },
  {
   "cell_type": "markdown",
   "id": "8dfd6dba",
   "metadata": {},
   "source": [
    "**Objectives:**\n",
    "\n",
    "- List popular languages for Data Science\n",
    "- Describe commonly used libraries in Data Science\n",
    "- Introduce and evaluate arithmetic expressions in Python\n",
    "- Demonstrate conversion of units (e.g., minutes to hours)\n",
    "- Highlight data science tools and environments\n"
   ]
  },
  {
   "cell_type": "markdown",
   "id": "cece342e",
   "metadata": {},
   "source": [
    "## Author\n",
    "\n",
    "Abdul Majid\n"
   ]
  },
  {
   "cell_type": "code",
   "execution_count": null,
   "id": "f076f3b8",
   "metadata": {},
   "outputs": [],
   "source": []
  }
 ],
 "metadata": {
  "kernelspec": {
   "display_name": "Python 3 (ipykernel)",
   "language": "python",
   "name": "python3"
  },
  "language_info": {
   "codemirror_mode": {
    "name": "ipython",
    "version": 3
   },
   "file_extension": ".py",
   "mimetype": "text/x-python",
   "name": "python",
   "nbconvert_exporter": "python",
   "pygments_lexer": "ipython3",
   "version": "3.11.5"
  }
 },
 "nbformat": 4,
 "nbformat_minor": 5
}
